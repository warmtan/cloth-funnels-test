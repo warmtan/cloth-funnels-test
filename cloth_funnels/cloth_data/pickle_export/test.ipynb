{
 "cells": [
  {
   "cell_type": "code",
   "execution_count": 49,
   "metadata": {},
   "outputs": [],
   "source": [
    "import os \n",
    "import glob\n",
    "import numpy as np\n",
    "import k3d \n",
    "import pickle as pkl\n",
    "import networkx as nx"
   ]
  },
  {
   "cell_type": "code",
   "execution_count": 48,
   "metadata": {},
   "outputs": [],
   "source": [
    "def load_mesh(path):\n",
    "    vertices, faces = [], []\n",
    "    nocs = pkl.load(open(path,'rb'))\n",
    "    vertices = nocs['verts']\n",
    "    faces = nocs['faces']\n",
    "\n",
    "    return vertices, faces"
   ]
  },
  {
   "cell_type": "code",
   "execution_count": null,
   "metadata": {},
   "outputs": [],
   "source": [
    "os.listdir('/home/alper/AeroDexterity/src/cloth_data/pickle_export/Tshirt_old')"
   ]
  },
  {
   "cell_type": "code",
   "execution_count": null,
   "metadata": {},
   "outputs": [],
   "source": []
  }
 ],
 "metadata": {
  "interpreter": {
   "hash": "c0eac53665499d39ff17c1d95224759e0f5f0f3db0f4cf2f2d017cd5712e3cfa"
  },
  "kernelspec": {
   "display_name": "Python 3.9.6 64-bit ('interactive-cloth-perception': conda)",
   "language": "python",
   "name": "python3"
  },
  "language_info": {
   "codemirror_mode": {
    "name": "ipython",
    "version": 3
   },
   "file_extension": ".py",
   "mimetype": "text/x-python",
   "name": "python",
   "nbconvert_exporter": "python",
   "pygments_lexer": "ipython3",
   "version": "3.9.6"
  },
  "orig_nbformat": 4
 },
 "nbformat": 4,
 "nbformat_minor": 2
}
